{
 "cells": [
  {
   "cell_type": "markdown",
   "metadata": {},
   "source": [
    "### Building xgboost\n",
    "\n",
    "1: Install Git on your machine so you get clone a GitHub Repository\n",
    "    - https://git-scm.com/download/win or\n",
    "    - https://github.com/\n",
    "    I recommend github because it comes with a Git Shell\n",
    "    Make sure git is in your PATH"
   ]
  },
  {
   "cell_type": "markdown",
   "metadata": {},
   "source": [
    "2: Download and install MinGW-64\n",
    "    - http://sourceforge.net/projects/mingw-w64/\n",
    "    \n",
    "    During installation, set architecture to x86_64 and threads to win32  \n",
    "    Add the <install_dir>.\\mingw64\\bin folder to your PATH environment variable\n",
    "    Rename mingw32-make to make"
   ]
  },
  {
   "cell_type": "markdown",
   "metadata": {},
   "source": [
    "3: Testing set up is ok - open a command prompt and type\n",
    "\n",
    "    - gcc -  should see something like \"fatal error: no input file\"\n",
    "    - make - should see something like \"No targets specified and no makefile found\"\n",
    "    - git - to see if it is in your PATH"
   ]
  },
  {
   "cell_type": "markdown",
   "metadata": {},
   "source": [
    "4: Cloning and compiling xgboost\n",
    "```\n",
    "cd c:\\\n",
    "git clone --recursive https://github.com/dmlc/xgboost\n",
    "cd xgboost\n",
    "git submodule init\n",
    "git submodule update\n",
    "cp make/mingw64.mk config.mk\n",
    "make -j4\n",
    "```\n",
    "\n",
    "    Use https://github.com/tqchen/xgboost for the monotonicity feature\n",
    "    These were done with the Git Shell"
   ]
  },
  {
   "cell_type": "markdown",
   "metadata": {},
   "source": [
    "5: You should now see a xgboost.exe in the xgboost folder. CD to the python-package and type \n",
    "```\n",
    "python setup.up install\n",
    "```\n",
    "    \n",
    "    to install the python library"
   ]
  }
 ],
 "metadata": {
  "anaconda-cloud": {},
  "kernelspec": {
   "display_name": "Python [learning]",
   "language": "python",
   "name": "Python [learning]"
  },
  "language_info": {
   "codemirror_mode": {
    "name": "ipython",
    "version": 3
   },
   "file_extension": ".py",
   "mimetype": "text/x-python",
   "name": "python",
   "nbconvert_exporter": "python",
   "pygments_lexer": "ipython3",
   "version": "3.5.2"
  }
 },
 "nbformat": 4,
 "nbformat_minor": 0
}
